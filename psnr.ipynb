{
 "cells": [
  {
   "cell_type": "code",
   "execution_count": 1,
   "metadata": {},
   "outputs": [
    {
     "name": "stderr",
     "output_type": "stream",
     "text": [
      "c:\\Users\\oKata\\anaconda3\\envs\\ldm\\lib\\site-packages\\tqdm\\auto.py:22: TqdmWarning: IProgress not found. Please update jupyter and ipywidgets. See https://ipywidgets.readthedocs.io/en/stable/user_install.html\n",
      "  from .autonotebook import tqdm as notebook_tqdm\n"
     ]
    }
   ],
   "source": [
    "import os\n",
    "from glob import glob\n",
    "from skimage.metrics import peak_signal_noise_ratio\n",
    "import torch\n",
    "import numpy as np\n",
    "from PIL import Image\n",
    "\n",
    "from notebook_helpers import get_model, run, get_cond_for_psnr_testing"
   ]
  },
  {
   "cell_type": "code",
   "execution_count": 2,
   "metadata": {},
   "outputs": [
    {
     "name": "stdout",
     "output_type": "stream",
     "text": [
      "Using downloaded and verified file: logs\\diffusion\\superresolution_bsr\\configs\\project.yaml\\dl=1\n",
      "Using downloaded and verified file: logs\\diffusion\\superresolution_bsr\\checkpoints\\last.ckpt\\dl=1\n",
      "Loading model from logs\\diffusion\\superresolution_bsr\\checkpoints\\last.ckpt\\dl=1\n",
      "LatentDiffusion: Running in eps-prediction mode\n",
      "DiffusionWrapper has 113.62 M params.\n",
      "Keeping EMAs of 308.\n",
      "making attention of type 'vanilla' with 512 in_channels\n",
      "Working with z of shape (1, 3, 64, 64) = 12288 dimensions.\n",
      "making attention of type 'vanilla' with 512 in_channels\n"
     ]
    }
   ],
   "source": [
    "DATASET_PATH = 'X:/University/MastersDegree/DeepLearning/data/DIV2K_valid_HR/'\n",
    "SAVE_PATH = 'X:/University/MastersDegree/DeepLearning/latent-diffusion'\n",
    "DIFFUSION_STEPS = 100\n",
    "model = get_model('superresolution')"
   ]
  },
  {
   "cell_type": "code",
   "execution_count": 3,
   "metadata": {},
   "outputs": [],
   "source": [
    "image_filenames = glob(os.path.join(DATASET_PATH, '*'))"
   ]
  },
  {
   "cell_type": "code",
   "execution_count": 5,
   "metadata": {},
   "outputs": [],
   "source": [
    "image_filenames = image_filenames[0:1]"
   ]
  },
  {
   "cell_type": "code",
   "execution_count": 6,
   "metadata": {},
   "outputs": [],
   "source": [
    "def extract_sample(logs) -> Image:\n",
    "    sample = logs[\"sample\"]\n",
    "    sample = sample.detach().cpu()\n",
    "    sample = torch.clamp(sample, -1., 1.)\n",
    "    sample = (sample + 1.) / 2. * 255\n",
    "    sample = sample.numpy().astype(np.uint8)\n",
    "    sample = np.transpose(sample, (0, 2, 3, 1))\n",
    "    return sample[0]\n",
    "\n",
    "def estimate_psnr(image_filenames, model, diff_steps, save_path=None):\n",
    "    psnr_vals = []\n",
    "    for image_file in image_filenames:\n",
    "        example = get_cond_for_psnr_testing('superresolution', image_file)\n",
    "        logs = run(model, example, 'superresolution', diff_steps)\n",
    "        \n",
    "        orig_image = np.asarray(example['orig'])\n",
    "        test_image = extract_sample(logs)\n",
    "        psnr = peak_signal_noise_ratio(orig_image, test_image)\n",
    "        psnr_vals.append(psnr)\n",
    "        \n",
    "        if save_path is not None:\n",
    "            image_name = image_file.split(os.sep)[-1]\n",
    "            savepath = os.path.join(save_path, image_name)\n",
    "            test_image.save(save_path)\n",
    "    return np.mean(psnr_vals)"
   ]
  },
  {
   "cell_type": "code",
   "execution_count": 7,
   "metadata": {},
   "outputs": [
    {
     "name": "stdout",
     "output_type": "stream",
     "text": [
      "Plotting: Switched to EMA weights\n",
      "Sampling with eta = 1.0; steps: 100\n",
      "Data shape for DDIM sampling is (1, 3, 339, 510), eta 1.0\n",
      "Running DDIM Sampling with 100 timesteps\n"
     ]
    },
    {
     "name": "stderr",
     "output_type": "stream",
     "text": [
      "DDIM Sampler: 100%|██████████| 100/100 [05:19<00:00,  3.20s/it]\n"
     ]
    },
    {
     "name": "stdout",
     "output_type": "stream",
     "text": [
      "Plotting: Restored training weights\n"
     ]
    }
   ],
   "source": [
    "psnr = estimate_psnr(image_filenames, model, DIFFUSION_STEPS, SAVE_PATH)"
   ]
  },
  {
   "cell_type": "code",
   "execution_count": 8,
   "metadata": {},
   "outputs": [
    {
     "data": {
      "text/plain": [
       "(1, 1356, 2040, 3)"
      ]
     },
     "execution_count": 8,
     "metadata": {},
     "output_type": "execute_result"
    }
   ],
   "source": [
    "psnr[0].shape"
   ]
  },
  {
   "cell_type": "code",
   "execution_count": 9,
   "metadata": {},
   "outputs": [
    {
     "data": {
      "text/plain": [
       "(1356, 2040, 3)"
      ]
     },
     "execution_count": 9,
     "metadata": {},
     "output_type": "execute_result"
    }
   ],
   "source": [
    "psnr[1].shape"
   ]
  },
  {
   "cell_type": "code",
   "execution_count": 11,
   "metadata": {},
   "outputs": [],
   "source": [
    "example = get_cond_for_psnr_testing('superresolution', image_filenames[0])"
   ]
  },
  {
   "cell_type": "code",
   "execution_count": 12,
   "metadata": {},
   "outputs": [
    {
     "data": {
      "text/plain": [
       "(torch.Size([1, 3, 64, 64]),\n",
       " torch.Size([1, 3, 64, 64]),\n",
       " torch.Size([1, 3, 256, 256]))"
      ]
     },
     "execution_count": 12,
     "metadata": {},
     "output_type": "execute_result"
    }
   ],
   "source": [
    "example['LR_image'].shape, example['image'].shape, example['orig'].shape"
   ]
  },
  {
   "cell_type": "code",
   "execution_count": 13,
   "metadata": {},
   "outputs": [
    {
     "data": {
      "text/plain": [
       "array([[[ 24, 142, 208],\n",
       "        [  6, 151, 226],\n",
       "        [  0, 149, 228],\n",
       "        ...,\n",
       "        [  7, 127, 199],\n",
       "        [  2, 134, 205],\n",
       "        [ 33, 116, 168]],\n",
       "\n",
       "       [[  1, 148, 221],\n",
       "        [  0, 154, 224],\n",
       "        [  0, 150, 226],\n",
       "        ...,\n",
       "        [  0, 134, 197],\n",
       "        [  0, 132, 190],\n",
       "        [  1, 122, 191]],\n",
       "\n",
       "       [[  1, 150, 216],\n",
       "        [  0, 160, 214],\n",
       "        [  0, 156, 215],\n",
       "        ...,\n",
       "        [  0, 136, 192],\n",
       "        [  0, 141, 190],\n",
       "        [  0, 131, 193]],\n",
       "\n",
       "       ...,\n",
       "\n",
       "       [[  0,  88, 128],\n",
       "        [  0,  95, 130],\n",
       "        [  0,  94, 128],\n",
       "        ...,\n",
       "        [  0,  76,  97],\n",
       "        [  0,  78, 100],\n",
       "        [  0,  73, 101]],\n",
       "\n",
       "       [[  3,  88, 129],\n",
       "        [  0,  93, 134],\n",
       "        [  0,  93, 134],\n",
       "        ...,\n",
       "        [  0,  75, 100],\n",
       "        [  0,  74, 103],\n",
       "        [  0,  73, 101]],\n",
       "\n",
       "       [[ 23,  85, 119],\n",
       "        [  5,  89, 126],\n",
       "        [  0,  91, 126],\n",
       "        ...,\n",
       "        [  0,  73,  98],\n",
       "        [  0,  73,  96],\n",
       "        [ 12,  73,  92]]], dtype=uint8)"
      ]
     },
     "execution_count": 13,
     "metadata": {},
     "output_type": "execute_result"
    }
   ],
   "source": [
    "psnr[1]"
   ]
  },
  {
   "cell_type": "code",
   "execution_count": 14,
   "metadata": {},
   "outputs": [
    {
     "ename": "ModuleNotFoundError",
     "evalue": "No module named 'matplotlib'",
     "output_type": "error",
     "traceback": [
      "\u001b[1;31m---------------------------------------------------------------------------\u001b[0m",
      "\u001b[1;31mModuleNotFoundError\u001b[0m                       Traceback (most recent call last)",
      "Cell \u001b[1;32mIn [14], line 1\u001b[0m\n\u001b[1;32m----> 1\u001b[0m \u001b[39mimport\u001b[39;00m \u001b[39mmatplotlib\u001b[39;00m\u001b[39m.\u001b[39;00m\u001b[39mpyplot\u001b[39;00m \u001b[39mas\u001b[39;00m \u001b[39mplt\u001b[39;00m\n",
      "\u001b[1;31mModuleNotFoundError\u001b[0m: No module named 'matplotlib'"
     ]
    }
   ],
   "source": [
    "import matplotlib.pyplot as plt"
   ]
  },
  {
   "cell_type": "code",
   "execution_count": null,
   "metadata": {},
   "outputs": [],
   "source": []
  }
 ],
 "metadata": {
  "kernelspec": {
   "display_name": "Python 3.8.5 ('ldm')",
   "language": "python",
   "name": "python3"
  },
  "language_info": {
   "codemirror_mode": {
    "name": "ipython",
    "version": 3
   },
   "file_extension": ".py",
   "mimetype": "text/x-python",
   "name": "python",
   "nbconvert_exporter": "python",
   "pygments_lexer": "ipython3",
   "version": "3.8.5"
  },
  "orig_nbformat": 4,
  "vscode": {
   "interpreter": {
    "hash": "d7e366849d6eccbdea3758a5927b791f3ea8d6fce82c8270d4538bceb70c7fa8"
   }
  }
 },
 "nbformat": 4,
 "nbformat_minor": 2
}
